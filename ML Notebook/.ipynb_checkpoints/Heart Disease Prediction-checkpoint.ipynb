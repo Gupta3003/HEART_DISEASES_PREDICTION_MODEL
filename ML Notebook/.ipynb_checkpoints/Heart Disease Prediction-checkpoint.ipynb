{
 "cells": [
  {
   "cell_type": "markdown",
   "metadata": {},
   "source": [
    "# **1. Data Collection**"
   ]
  },
  {
   "cell_type": "code",
   "execution_count": null,
   "metadata": {
    "colab": {},
    "colab_type": "code",
    "id": "LwEqIVqOTIHd"
   },
   "outputs": [],
   "source": [
    "# Importing essential libraries\n",
    "import numpy as np\n",
    "import pandas as pd"
   ]
  },
  {
   "cell_type": "code",
   "execution_count": null,
   "metadata": {
    "colab": {},
    "colab_type": "code",
    "id": "JpIAT4StTd2m"
   },
   "outputs": [],
   "source": [
    "# Loading the dataset\n",
    "data = pd.read_csv('Heart_Data.csv')"
   ]
  },
  {
   "cell_type": "code",
   "execution_count": null,
   "metadata": {},
   "outputs": [],
   "source": [
    "data.head()"
   ]
  },
  {
   "cell_type": "markdown",
   "metadata": {
    "colab_type": "text",
    "id": "9BEBuDSiTwfU"
   },
   "source": [
    "# **2. Exploring the dataset**"
   ]
  },
  {
   "cell_type": "code",
   "execution_count": null,
   "metadata": {
    "colab": {
     "base_uri": "https://localhost:8080/",
     "height": 34
    },
    "colab_type": "code",
    "id": "K0ACfPwfTrPN",
    "outputId": "1cb510c9-5507-45e1-9ef3-9b3250447c27"
   },
   "outputs": [],
   "source": [
    "# Returns number of rows and columns of the dataset\n",
    "data.shape"
   ]
  },
  {
   "cell_type": "code",
   "execution_count": null,
   "metadata": {
    "colab": {
     "base_uri": "https://localhost:8080/",
     "height": 70
    },
    "colab_type": "code",
    "id": "3YXc-hnxT3uT",
    "outputId": "463fa98c-07cf-4924-f93b-a6993e505528"
   },
   "outputs": [],
   "source": [
    "# Returns an object with all of the column headers\n",
    "data.columns"
   ]
  },
  {
   "cell_type": "code",
   "execution_count": null,
   "metadata": {
    "colab": {
     "base_uri": "https://localhost:8080/",
     "height": 283
    },
    "colab_type": "code",
    "id": "VnR5V7tsUJ0L",
    "outputId": "ce26ebc9-71d7-4f22-8baf-6ee98015553c"
   },
   "outputs": [],
   "source": [
    "# Returns different datatypes for each columns (float, int, string, bool, etc.)\n",
    "data.dtypes"
   ]
  },
  {
   "cell_type": "code",
   "execution_count": null,
   "metadata": {
    "colab": {
     "base_uri": "https://localhost:8080/",
     "height": 197
    },
    "colab_type": "code",
    "id": "5eT5OXUVUPqD",
    "outputId": "e6f3ed41-ed28-41d7-ae9d-32179d61847a"
   },
   "outputs": [],
   "source": [
    "# Returns the first x number of rows when head(x). Without a number it returns 5\n",
    "data.head()"
   ]
  },
  {
   "cell_type": "code",
   "execution_count": null,
   "metadata": {
    "colab": {
     "base_uri": "https://localhost:8080/",
     "height": 197
    },
    "colab_type": "code",
    "id": "obCDtwF6UW5r",
    "outputId": "fe7ecea3-7c94-4475-8370-b370d029e72a"
   },
   "outputs": [],
   "source": [
    "# Returns the last x number of rows when tail(x). Without a number it returns 5\n",
    "data.tail()"
   ]
  },
  {
   "cell_type": "code",
   "execution_count": null,
   "metadata": {
    "colab": {
     "base_uri": "https://localhost:8080/",
     "height": 283
    },
    "colab_type": "code",
    "id": "KHyQmvp-UniL",
    "outputId": "26f1f9d2-85d6-41be-c2c8-0c71551044fc"
   },
   "outputs": [],
   "source": [
    "# Returns true for a column having null values, else false\n",
    "data.isnull().any()"
   ]
  },
  {
   "cell_type": "code",
   "execution_count": null,
   "metadata": {
    "colab": {
     "base_uri": "https://localhost:8080/",
     "height": 390
    },
    "colab_type": "code",
    "id": "VDtNX8xfUauT",
    "outputId": "ea32a38c-1b15-41e5-bc28-ce2672a663d6"
   },
   "outputs": [],
   "source": [
    "# Returns basic information on all columns\n",
    "data.info()"
   ]
  },
  {
   "cell_type": "code",
   "execution_count": null,
   "metadata": {
    "colab": {
     "base_uri": "https://localhost:8080/",
     "height": 467
    },
    "colab_type": "code",
    "id": "01LQR7NmUe67",
    "outputId": "f235e330-82e9-408d-9c89-0795a7e2f423"
   },
   "outputs": [],
   "source": [
    "# Returns basic statistics on numeric columns\n",
    "data.describe().T"
   ]
  },
  {
   "cell_type": "markdown",
   "metadata": {
    "colab_type": "text",
    "id": "cVlUJwidVjLr"
   },
   "source": [
    "# **3. Data Visualization**"
   ]
  },
  {
   "cell_type": "code",
   "execution_count": null,
   "metadata": {
    "colab": {},
    "colab_type": "code",
    "id": "eBqQ2CkTWBlj"
   },
   "outputs": [],
   "source": [
    "# Importing essential libraries\n",
    "import matplotlib.pyplot as plt\n",
    "%matplotlib inline\n",
    "import seaborn as sns"
   ]
  },
  {
   "cell_type": "code",
   "execution_count": null,
   "metadata": {
    "colab": {
     "base_uri": "https://localhost:8080/",
     "height": 0
    },
    "colab_type": "code",
    "id": "EMtmzTXUVp37",
    "outputId": "62cd0d7f-408d-417a-bdea-c3ee30ff0e38"
   },
   "outputs": [],
   "source": [
    "# Plot histogram for all columns in the dataset\n",
    "data.hist(figsize=(15, 15))\n",
    "plt.tight_layout()  # Optional: improves spacing between plots\n",
    "plt.show()"
   ]
  },
  {
   "cell_type": "code",
   "execution_count": null,
   "metadata": {
    "colab": {
     "base_uri": "https://localhost:8080/",
     "height": 0
    },
    "colab_type": "code",
    "id": "hMpcT5VsWtGP",
    "outputId": "647aa5e5-f26f-43f8-f36a-cc029d930c82"
   },
   "outputs": [],
   "source": [
    "# Visualization to check if the dataset is balanced or not\n",
    "g = sns.countplot(x='target', data=data)\n",
    "plt.xlabel('Target')\n",
    "plt.ylabel('Count')"
   ]
  },
  {
   "cell_type": "markdown",
   "metadata": {
    "colab_type": "text",
    "id": "j1bd0Qd7adPW"
   },
   "source": [
    "# **4. Data Preprocessing**"
   ]
  },
  {
   "cell_type": "code",
   "execution_count": null,
   "metadata": {},
   "outputs": [],
   "source": [
    "# find missing values.\n",
    "data.isnull().sum()[data.isnull().sum()>0].sort_values(ascending=False)"
   ]
  },
  {
   "cell_type": "code",
   "execution_count": null,
   "metadata": {},
   "outputs": [],
   "source": [
    "# find categorical Columns\n",
    "cat_cols = data.select_dtypes(include='object').columns.tolist()\n",
    "cat_cols\n",
    "\n",
    "# find Numerical Columns\n",
    "Num_cols = data.select_dtypes(exclude='object').columns.tolist()\n",
    "Num_cols\n",
    "\n",
    "print(f'categorical Columns: {cat_cols}')\n",
    "print(f'numerical Columns: {Num_cols}')"
   ]
  },
  {
   "cell_type": "code",
   "execution_count": null,
   "metadata": {
    "colab": {},
    "colab_type": "code",
    "id": "wDII7RbTbFmM"
   },
   "outputs": [],
   "source": [
    "heart_data = pd.get_dummies(data, columns=['sex', 'cp', 'fbs', 'restecg', 'exang', 'slope', 'ca', 'thal'])"
   ]
  },
  {
   "cell_type": "markdown",
   "metadata": {},
   "source": [
    "# **5. Feature Engineering**"
   ]
  },
  {
   "cell_type": "markdown",
   "metadata": {},
   "source": [
    "## 5.1 Feature Selection"
   ]
  },
  {
   "cell_type": "code",
   "execution_count": null,
   "metadata": {},
   "outputs": [],
   "source": [
    "# Selecting correlated features using Heatmap\n",
    "\n",
    "# Get correlation of all the features of the dataset\n",
    "corr_matrix = data.corr()\n",
    "top_corr_features = corr_matrix.index\n",
    "\n",
    "# Plotting the heatmap\n",
    "plt.figure(figsize=(20,20))\n",
    "sns.heatmap(data=data[top_corr_features].corr(), annot=True, cmap='RdYlGn')"
   ]
  },
  {
   "cell_type": "markdown",
   "metadata": {
    "colab_type": "text",
    "id": "-Eba0WwwclFj"
   },
   "source": [
    "## 5.2 Feature Scaling"
   ]
  },
  {
   "cell_type": "code",
   "execution_count": null,
   "metadata": {
    "colab": {
     "base_uri": "https://localhost:8080/",
     "height": 123
    },
    "colab_type": "code",
    "id": "szazUF3JfGiC",
    "outputId": "d0186392-77bd-4dfd-8a40-5c6760e1a76b"
   },
   "outputs": [],
   "source": [
    "heart_data.columns"
   ]
  },
  {
   "cell_type": "code",
   "execution_count": null,
   "metadata": {
    "colab": {},
    "colab_type": "code",
    "id": "gktjo1Gye6Ra"
   },
   "outputs": [],
   "source": [
    "from sklearn.preprocessing import StandardScaler\n",
    "standScaler = StandardScaler()\n",
    "columns_to_scale = ['age', 'trestbps', 'chol', 'thalach', 'oldpeak']\n",
    "heart_data[columns_to_scale] = standScaler.fit_transform(heart_data[columns_to_scale])"
   ]
  },
  {
   "cell_type": "code",
   "execution_count": null,
   "metadata": {
    "colab": {
     "base_uri": "https://localhost:8080/",
     "height": 217
    },
    "colab_type": "code",
    "id": "1ttukfhofhBT",
    "outputId": "4caa3a99-6007-4679-a69d-7ddfc1376bd1"
   },
   "outputs": [],
   "source": [
    "heart_data.head()"
   ]
  },
  {
   "cell_type": "code",
   "execution_count": null,
   "metadata": {
    "colab": {},
    "colab_type": "code",
    "id": "ordVXCj7gMwb"
   },
   "outputs": [],
   "source": [
    "# Splitting the dataset into dependent and independent features\n",
    "X = heart_data.drop('target', axis=1)\n",
    "y = heart_data['target']"
   ]
  },
  {
   "cell_type": "markdown",
   "metadata": {
    "colab_type": "text",
    "id": "bm53VwAcgnUa"
   },
   "source": [
    "# **6. Model Building**"
   ]
  },
  {
   "cell_type": "markdown",
   "metadata": {
    "colab_type": "text",
    "id": "eko0NbkMg_rA"
   },
   "source": [
    "## 6.1 KNeighbors Classifier Model"
   ]
  },
  {
   "cell_type": "code",
   "execution_count": null,
   "metadata": {
    "colab": {},
    "colab_type": "code",
    "id": "lW11vJprg7gd"
   },
   "outputs": [],
   "source": [
    "# Importing essential libraries\n",
    "from sklearn.neighbors import KNeighborsClassifier\n",
    "from sklearn.model_selection import cross_val_score"
   ]
  },
  {
   "cell_type": "code",
   "execution_count": null,
   "metadata": {
    "colab": {},
    "colab_type": "code",
    "id": "4m-Bsa2vhqV_"
   },
   "outputs": [],
   "source": [
    "# Finding the best accuracy for knn algorithm using cross_val_score \n",
    "knn_scores = []\n",
    "for i in range(1, 21):\n",
    "  knn_classifier = KNeighborsClassifier(n_neighbors=i)\n",
    "  cvs_scores = cross_val_score(knn_classifier, X, y, cv=10)\n",
    "  knn_scores.append(round(cvs_scores.mean(),3))"
   ]
  },
  {
   "cell_type": "code",
   "execution_count": null,
   "metadata": {
    "colab": {
     "base_uri": "https://localhost:8080/",
     "height": 850
    },
    "colab_type": "code",
    "id": "N5jcGJwZhqSm",
    "outputId": "e1cd2c46-ddba-4cab-b44b-4350ff5a87ec"
   },
   "outputs": [],
   "source": [
    "# Plotting the results of knn_scores\n",
    "plt.figure(figsize=(20,15))\n",
    "plt.plot([k for k in range(1, 21)], knn_scores, color = 'red')\n",
    "for i in range(1,21):\n",
    "    plt.text(i, knn_scores[i-1], (i, knn_scores[i-1]))\n",
    "plt.xticks([i for i in range(1, 21)])\n",
    "plt.xlabel('Number of Neighbors (K)')\n",
    "plt.ylabel('Scores')\n",
    "plt.title('K Neighbors Classifier scores for different K values')"
   ]
  },
  {
   "cell_type": "code",
   "execution_count": null,
   "metadata": {
    "colab": {
     "base_uri": "https://localhost:8080/",
     "height": 34
    },
    "colab_type": "code",
    "id": "RHXct12JhqM1",
    "outputId": "7cd5fe61-f4bd-430d-b270-2455f246a009"
   },
   "outputs": [],
   "source": [
    "# Training the knn classifier model with k value as 12\n",
    "knn_classifier = KNeighborsClassifier(n_neighbors=12)\n",
    "cvs_scores = cross_val_score(knn_classifier, X, y, cv=10)\n",
    "print(\"KNeighbours Classifier Accuracy with K=12 is: {}%\".format(round(cvs_scores.mean(), 4)*100))"
   ]
  },
  {
   "cell_type": "markdown",
   "metadata": {
    "colab_type": "text",
    "id": "ePRTeaPJhD8i"
   },
   "source": [
    "## 6.2 Decision Tree Classifier"
   ]
  },
  {
   "cell_type": "code",
   "execution_count": null,
   "metadata": {
    "colab": {},
    "colab_type": "code",
    "id": "qaRq7M9fnYcy"
   },
   "outputs": [],
   "source": [
    "# Importing essential libraries\n",
    "from sklearn.tree import DecisionTreeClassifier"
   ]
  },
  {
   "cell_type": "code",
   "execution_count": null,
   "metadata": {
    "colab": {},
    "colab_type": "code",
    "id": "g2hdbvoDuVaC"
   },
   "outputs": [],
   "source": [
    "# Finding the best accuracy for decision tree algorithm using cross_val_score \n",
    "decision_scores = []\n",
    "for i in range(1, 11):\n",
    "  decision_classifier = DecisionTreeClassifier(max_depth=i)\n",
    "  cvs_scores = cross_val_score(decision_classifier, X, y, cv=10)\n",
    "  decision_scores.append(round(cvs_scores.mean(),3))"
   ]
  },
  {
   "cell_type": "code",
   "execution_count": null,
   "metadata": {
    "colab": {
     "base_uri": "https://localhost:8080/",
     "height": 850
    },
    "colab_type": "code",
    "id": "JKko_7FUuVW1",
    "outputId": "739c5292-7f32-4260-8623-725ac63870af"
   },
   "outputs": [],
   "source": [
    "# Plotting the results of decision_scores\n",
    "plt.figure(figsize=(20,15))\n",
    "plt.plot([i for i in range(1, 11)], decision_scores, color = 'red')\n",
    "for i in range(1,11):\n",
    "    plt.text(i, decision_scores[i-1], (i, decision_scores[i-1]))\n",
    "plt.xticks([i for i in range(1, 11)])\n",
    "plt.xlabel('Depth of Decision Tree (N)')\n",
    "plt.ylabel('Scores')\n",
    "plt.title('Decision Tree Classifier scores for different depth values')"
   ]
  },
  {
   "cell_type": "code",
   "execution_count": null,
   "metadata": {
    "colab": {
     "base_uri": "https://localhost:8080/",
     "height": 34
    },
    "colab_type": "code",
    "id": "rzELpIXKuVJZ",
    "outputId": "df5f719d-ee67-4acc-9d90-1212c98b631a"
   },
   "outputs": [],
   "source": [
    "# Training the decision tree classifier model with max_depth value as 3\n",
    "decision_classifier = DecisionTreeClassifier(max_depth=3)\n",
    "cvs_scores = cross_val_score(decision_classifier, X, y, cv=10)\n",
    "print(\"Decision Tree Classifier Accuracy with max_depth=3 is: {}%\".format(round(cvs_scores.mean(), 4)*100))"
   ]
  },
  {
   "cell_type": "markdown",
   "metadata": {
    "colab_type": "text",
    "id": "4zX2_2gmhI0r"
   },
   "source": [
    "## 6.3 Random Forest Classifier"
   ]
  },
  {
   "cell_type": "code",
   "execution_count": null,
   "metadata": {
    "colab": {},
    "colab_type": "code",
    "id": "m0XtdrqKk2Vz"
   },
   "outputs": [],
   "source": [
    "# Importing essential libraries\n",
    "from sklearn.ensemble import RandomForestClassifier"
   ]
  },
  {
   "cell_type": "code",
   "execution_count": null,
   "metadata": {
    "colab": {},
    "colab_type": "code",
    "id": "9wMZ1NOplNjJ"
   },
   "outputs": [],
   "source": [
    "# Finding the best accuracy for random forest algorithm using cross_val_score \n",
    "forest_scores = []\n",
    "for i in range(10, 101, 10):\n",
    "  forest_classifier = RandomForestClassifier(n_estimators=i)\n",
    "  cvs_scores = cross_val_score(forest_classifier, X, y, cv=5)\n",
    "  forest_scores.append(round(cvs_scores.mean(),3))"
   ]
  },
  {
   "cell_type": "code",
   "execution_count": null,
   "metadata": {
    "colab": {
     "base_uri": "https://localhost:8080/",
     "height": 841
    },
    "colab_type": "code",
    "id": "qlhqwMXkljap",
    "outputId": "626286a8-72b9-4da5-ab34-5d8343b83382"
   },
   "outputs": [],
   "source": [
    "# Plotting the results of forest_scores\n",
    "plt.figure(figsize=(20,15))\n",
    "plt.plot([n for n in range(10, 101, 10)], forest_scores, color = 'red')\n",
    "for i in range(1,11):\n",
    "    plt.text(i*10, forest_scores[i-1], (i*10, forest_scores[i-1]))\n",
    "plt.xticks([i for i in range(10, 101, 10)])\n",
    "plt.xlabel('Number of Estimators (N)')\n",
    "plt.ylabel('Scores')\n",
    "plt.title('Random Forest Classifier scores for different N values')"
   ]
  },
  {
   "cell_type": "code",
   "execution_count": null,
   "metadata": {
    "colab": {
     "base_uri": "https://localhost:8080/",
     "height": 34
    },
    "colab_type": "code",
    "id": "FERYFAEgmdBx",
    "outputId": "063bbb32-59f6-4c9e-d971-e43504c7a87a"
   },
   "outputs": [],
   "source": [
    "# Training the random forest classifier model with n value as 90\n",
    "forest_classifier = RandomForestClassifier(n_estimators=90)\n",
    "cvs_scores = cross_val_score(forest_classifier, X, y, cv=5)\n",
    "print(\"Random Forest Classifier Accuracy with n_estimators=90 is: {}%\".format(round(cvs_scores.mean(), 4)*100))"
   ]
  },
  {
   "cell_type": "code",
   "execution_count": null,
   "metadata": {},
   "outputs": [],
   "source": []
  }
 ],
 "metadata": {
  "colab": {
   "collapsed_sections": [
    "9BEBuDSiTwfU",
    "cVlUJwidVjLr"
   ],
   "name": "Heart Disease Prediction.ipynb",
   "provenance": [],
   "toc_visible": true
  },
  "kernelspec": {
   "display_name": "Heart Disease Env",
   "language": "python",
   "name": "heart_env"
  },
  "language_info": {
   "codemirror_mode": {
    "name": "ipython",
    "version": 3
   },
   "file_extension": ".py",
   "mimetype": "text/x-python",
   "name": "python",
   "nbconvert_exporter": "python",
   "pygments_lexer": "ipython3",
   "version": "3.9.12"
  }
 },
 "nbformat": 4,
 "nbformat_minor": 1
}
